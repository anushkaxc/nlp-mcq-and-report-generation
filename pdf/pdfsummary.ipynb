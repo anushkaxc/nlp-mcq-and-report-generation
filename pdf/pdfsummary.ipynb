{
 "cells": [
  {
   "cell_type": "code",
   "execution_count": 2,
   "metadata": {},
   "outputs": [],
   "source": [
    "from PyPDF2 import PdfReader #library used to deal read pdfs\n",
    "import re  #library used to deal with regular expressions\n",
    "#regular expressions are used to defines certain number of sets in algebraic fashion"
   ]
  },
  {
   "cell_type": "code",
   "execution_count": 21,
   "metadata": {},
   "outputs": [
    {
     "name": "stdout",
     "output_type": "stream",
     "text": [
      "The number of pages in this pdf file are 2\n"
     ]
    }
   ],
   "source": [
    "reader = PdfReader('sample.pdf')\n",
    "\n",
    "print(\"The number of pages in this pdf file are\", len(reader.pages))\n",
    "page = reader.pages[0]\n",
    "\n",
    "text = page.extract_text()\n",
    "#print(text)\n",
    "#print(\"----------------------------------------------------------\")\n",
    "text = text.replace(\"\\n\", \" \")\n",
    "#print(text)"
   ]
  },
  {
   "cell_type": "code",
   "execution_count": 4,
   "metadata": {},
   "outputs": [
    {
     "name": "stdout",
     "output_type": "stream",
     "text": [
      "Number of words in the text are 3498\n"
     ]
    }
   ],
   "source": [
    "print(\"Number of words in the text are\",len(text))"
   ]
  },
  {
   "cell_type": "code",
   "execution_count": 5,
   "metadata": {},
   "outputs": [
    {
     "name": "stdout",
     "output_type": "stream",
     "text": [
      "The number of white spaces in this text are 529\n"
     ]
    }
   ],
   "source": [
    "c=0\n",
    "for i in text:\n",
    "    if i==' ':\n",
    "        c=c+1\n",
    "print(\"The number of white spaces in this text are\",c)"
   ]
  },
  {
   "cell_type": "code",
   "execution_count": 6,
   "metadata": {},
   "outputs": [
    {
     "data": {
      "text/plain": [
       "['Sustainability:',\n",
       " 'Nurturing',\n",
       " 'the',\n",
       " 'Present,',\n",
       " 'Preserving',\n",
       " 'the',\n",
       " 'Future',\n",
       " 'Sustainability',\n",
       " 'stands']"
      ]
     },
     "execution_count": 6,
     "metadata": {},
     "output_type": "execute_result"
    }
   ],
   "source": [
    "list = re.split('\\s', text)\n",
    "list[0:9]"
   ]
  },
  {
   "cell_type": "code",
   "execution_count": 7,
   "metadata": {},
   "outputs": [],
   "source": [
    "from sumy.parsers.plaintext import PlaintextParser\n",
    "from sumy.nlp.tokenizers import Tokenizer\n",
    "\n",
    "parser = PlaintextParser.from_string(text, Tokenizer(\"english\"))\n",
    "\n",
    "from sumy.summarizers.text_rank import TextRankSummarizer\n"
   ]
  },
  {
   "cell_type": "code",
   "execution_count": 8,
   "metadata": {},
   "outputs": [
    {
     "name": "stdout",
     "output_type": "stream",
     "text": [
      "Extractive summary\n",
      "In the realm of energy, sustainability encourages a shift towards renewable  sources that harness the boundless power of the sun, wind, and water.By minimizing waste and extending the  lifespan of products, we conserve resources and reduce the burden on landfills,  paving the way for a more sustainable and regenerative economy.\n"
     ]
    }
   ],
   "source": [
    "summarizer = TextRankSummarizer()\n",
    "summary = summarizer(parser.document, 2)\n",
    "\n",
    "text_summary = \"\"\n",
    "for sentence in summary:\n",
    "  text_summary += str(sentence)\n",
    "\n",
    "print(\"Extractive summary\")\n",
    "print(text_summary)"
   ]
  },
  {
   "cell_type": "code",
   "execution_count": 9,
   "metadata": {},
   "outputs": [],
   "source": [
    "#the summary that we get is very succint and not useful for generating MCQs. \n",
    "#thus, summary now has to be calculated using NLTK (abstractive summary) instead of sumy-TextRank algorithm (Extractive summary)\n",
    "#NLTK text summarisation inlcudes the following things:\n",
    "#a.  Removing stopwords\n",
    "#b. Removing punctuations\n",
    "#c. Calculating the frequency of keyqords\n",
    "#d. Generating summary "
   ]
  },
  {
   "cell_type": "code",
   "execution_count": 10,
   "metadata": {},
   "outputs": [],
   "source": [
    "import nltk\n",
    "from nltk.corpus import stopwords\n",
    "from collections import defaultdict\n",
    "from nltk.tokenize import word_tokenize, sent_tokenize\n",
    "import string"
   ]
  },
  {
   "cell_type": "code",
   "execution_count": 11,
   "metadata": {},
   "outputs": [
    {
     "name": "stdout",
     "output_type": "stream",
     "text": [
      "Sustainability Nurturing the Present Preserving the Future Sustainability stands as the cornerstone of our collective responsibility  towards the planet we call home It encompasses a holistic approach that seeks  to harmonize human activities with the delicate balance of nature ensuring the  wellbeing of current and future generations At its core sustainability is a  profound acknowledgment that the resources we utilize today are finite and our  actions today hold the power to shape the world that our descendants inherit Central to the concept of sustainability is the recognition of the  interconnectedness of all living beings and their environments It champions the idea that every action no matter how small ripples through the intricate web  of life From the food we consume to the energy we harness each choice bears  consequences that reverberate far beyond our immediate surroundings Thus  sustainability urges us to make deliberate and informed decisions considering  the broader impact on ecosystems communities and the global biosphere The essence of sustainability lies in the pursuit of a delicate equilibrium  between economic prosperity social equity and environmental resilience It  calls for responsible resource management where we draw from natures bounty in a manner that allows natural systems to replenish and regenerate This approach  seeks to curtail overexploitation and mitigate the detrimental effects of  resource depletion safeguarding the integrity of vital ecosystems Moreover sustainability extends its embrace to the social fabric of our  societies It champions inclusivity equity and social justice recognizing  that a sustainable world must be one where all individuals regardless of their  background or circumstance have access to the necessities of life  clean air  potable water nutritious food education and healthcare By uplifting  marginalized communities and ensuring their active participation in  decisionmaking processes sustainability strives to bridge the disparities that persist in our global society In the realm of energy sustainability encourages a shift towards renewable  sources that harness the boundless power of the sun wind and water This  transition not only mitigates the environmental impacts of fossil fuel  dependence but also heralds a paradigm shift towards a more decentralized and  resilient energy landscape It fosters innovation and drives the development of  clean technologies propelling us towards a future where energy is abundant  accessible and benign to the environment A critical facet of sustainability lies in waste management and the principle of a circular economy It challenges the linear takemakedispose model and  advocates for a system where resources are recycled repurposed and  reintegrated into the production cycle By minimizing waste and extending the  lifespan of products we conserve resources and reduce the burden on landfills  paving the way for a more sustainable and regenerative economy Education and awareness emerge as linchpins in the journey towards  sustainability It empowers individuals with the knowledge skills and values  needed to make informed choices and actively contribute to a sustainable future Through education we cultivate a culture of stewardship and instill a sense of  responsibility towards the planet fostering a collective consciousness that  transcends geographical and generational boundaries\n"
     ]
    }
   ],
   "source": [
    "exclude = set(string.punctuation)\n",
    "text1 = ''.join(ch for ch in text if ch not in exclude)  #code to remove punctuation \n",
    "print (text1)"
   ]
  },
  {
   "cell_type": "code",
   "execution_count": 12,
   "metadata": {},
   "outputs": [],
   "source": [
    "def freq_function(data):\n",
    "  stopwords1 = set(stopwords.words(\"english\"))\n",
    "  words = word_tokenize(data)\n",
    "  freqTable = {}  #defining a dictionary to only include freqencies of keywords, here stop words have been removed. \n",
    "  for word in words:\n",
    "    word = word.lower()  #making all the words in lower case to avoid any sort of confusion that might arise in comparing words. \n",
    "    if word in stopwords1:\n",
    "      continue\n",
    "    if word in freqTable:\n",
    "      freqTable[word] += 1  #if word is present then add words into the freqTable dictionary\n",
    "    else:\n",
    "      freqTable[word] = 1  #if not present yet set frequency to 1. \n",
    "  return freqTable"
   ]
  },
  {
   "cell_type": "code",
   "execution_count": 13,
   "metadata": {},
   "outputs": [
    {
     "name": "stdout",
     "output_type": "stream",
     "text": [
      "{'sustainability': 11, 'nurturing': 1, 'present': 1, 'preserving': 1, 'future': 4, 'stands': 1, 'cornerstone': 1, 'collective': 2, 'responsibility': 2, 'towards': 6, 'planet': 2, 'call': 1, 'home': 1, 'encompasses': 1, 'holistic': 1, 'approach': 2, 'seeks': 2, 'harmonize': 1, 'human': 1, 'activities': 1, 'delicate': 2, 'balance': 1, 'nature': 1, 'ensuring': 2, 'wellbeing': 1, 'current': 1, 'generations': 1, 'core': 1, 'profound': 1, 'acknowledgment': 1, 'resources': 3, 'utilize': 1, 'today': 2, 'finite': 1, 'actions': 1, 'hold': 1, 'power': 2, 'shape': 1, 'world': 2, 'descendants': 1, 'inherit': 1, 'central': 1, 'concept': 1, 'recognition': 1, 'interconnectedness': 1, 'living': 1, 'beings': 1, 'environments': 1, 'champions': 2, 'idea': 1, 'every': 1, 'action': 1, 'matter': 1, 'small': 1, 'ripples': 1, 'intricate': 1, 'web': 1, 'life': 2, 'food': 2, 'consume': 1, 'energy': 4, 'harness': 2, 'choice': 1, 'bears': 1, 'consequences': 1, 'reverberate': 1, 'far': 1, 'beyond': 1, 'immediate': 1, 'surroundings': 1, 'thus': 1, 'urges': 1, 'us': 2, 'make': 2, 'deliberate': 1, 'informed': 2, 'decisions': 1, 'considering': 1, 'broader': 1, 'impact': 1, 'ecosystems': 2, 'communities': 2, 'global': 2, 'biosphere': 1, 'essence': 1, 'lies': 2, 'pursuit': 1, 'equilibrium': 1, 'economic': 1, 'prosperity': 1, 'social': 3, 'equity': 2, 'environmental': 2, 'resilience': 1, 'calls': 1, 'responsible': 1, 'resource': 2, 'management': 2, 'draw': 1, 'natures': 1, 'bounty': 1, 'manner': 1, 'allows': 1, 'natural': 1, 'systems': 1, 'replenish': 1, 'regenerate': 1, 'curtail': 1, 'overexploitation': 1, 'mitigate': 1, 'detrimental': 1, 'effects': 1, 'depletion': 1, 'safeguarding': 1, 'integrity': 1, 'vital': 1, 'moreover': 1, 'extends': 1, 'embrace': 1, 'fabric': 1, 'societies': 1, 'inclusivity': 1, 'justice': 1, 'recognizing': 1, 'sustainable': 3, 'must': 1, 'one': 1, 'individuals': 2, 'regardless': 1, 'background': 1, 'circumstance': 1, 'access': 1, 'necessities': 1, 'clean': 2, 'air': 1, 'potable': 1, 'water': 2, 'nutritious': 1, 'education': 3, 'healthcare': 1, 'uplifting': 1, 'marginalized': 1, 'active': 1, 'participation': 1, 'decisionmaking': 1, 'processes': 1, 'strives': 1, 'bridge': 1, 'disparities': 1, 'persist': 1, 'society': 1, 'realm': 1, 'encourages': 1, 'shift': 2, 'renewable': 1, 'sources': 1, 'boundless': 1, 'sun': 1, 'wind': 1, 'transition': 1, 'mitigates': 1, 'impacts': 1, 'fossil': 1, 'fuel': 1, 'dependence': 1, 'also': 1, 'heralds': 1, 'paradigm': 1, 'decentralized': 1, 'resilient': 1, 'landscape': 1, 'fosters': 1, 'innovation': 1, 'drives': 1, 'development': 1, 'technologies': 1, 'propelling': 1, 'abundant': 1, 'accessible': 1, 'benign': 1, 'environment': 1, 'critical': 1, 'facet': 1, 'waste': 2, 'principle': 1, 'circular': 1, 'economy': 2, 'challenges': 1, 'linear': 1, 'takemakedispose': 1, 'model': 1, 'advocates': 1, 'system': 1, 'recycled': 1, 'repurposed': 1, 'reintegrated': 1, 'production': 1, 'cycle': 1, 'minimizing': 1, 'extending': 1, 'lifespan': 1, 'products': 1, 'conserve': 1, 'reduce': 1, 'burden': 1, 'landfills': 1, 'paving': 1, 'way': 1, 'regenerative': 1, 'awareness': 1, 'emerge': 1, 'linchpins': 1, 'journey': 1, 'empowers': 1, 'knowledge': 1, 'skills': 1, 'values': 1, 'needed': 1, 'choices': 1, 'actively': 1, 'contribute': 1, 'cultivate': 1, 'culture': 1, 'stewardship': 1, 'instill': 1, 'sense': 1, 'fostering': 1, 'consciousness': 1, 'transcends': 1, 'geographical': 1, 'generational': 1, 'boundaries': 1}\n",
      "<class 'dict'>\n"
     ]
    }
   ],
   "source": [
    "freq_function(text1)\n",
    "freq=freq_function(text1)\n",
    "print(freq)\n",
    "print(type(freq))"
   ]
  },
  {
   "cell_type": "code",
   "execution_count": 14,
   "metadata": {},
   "outputs": [
    {
     "name": "stdout",
     "output_type": "stream",
     "text": [
      "Sustainability stands as the cornerstone of our collective responsibility  towards the planet we call home. It encompasses a holistic approach that seeks  to harmonize human activities with the delicate balance of nature, ensuring the  well-being of current and future generations. At its core, sustainability is a  profound acknowledgment that the resources we utilize today are finite, and our  actions today hold the power to shape the world that our descendants inherit. Central to the concept of sustainability is the recognition of the  interconnectedness of all living beings and their environments. It champions the idea that every action, no matter how small, ripples through the intricate web  of life. From the food we consume to the energy we harness, each choice bears  consequences that reverberate far beyond our immediate surroundings. Thus,  sustainability urges us to make deliberate and informed decisions, considering  the broader impact on ecosystems, communities, and the global biosphere. The essence of sustainability lies in the pursuit of a delicate equilibrium  between economic prosperity, social equity, and environmental resilience. It  calls for responsible resource management, where we draw from nature's bounty in a manner that allows natural systems to replenish and regenerate. This approach  seeks to curtail overexploitation and mitigate the detrimental effects of  resource depletion, safeguarding the integrity of vital ecosystems.\n"
     ]
    }
   ],
   "source": [
    "samples=\"\"\"Sustainability stands as the cornerstone of our collective responsibility \n",
    "towards the planet we call home. It encompasses a holistic approach that seeks \n",
    "to harmonize human activities with the delicate balance of nature, ensuring the \n",
    "well-being of current and future generations. At its core, sustainability is a \n",
    "profound acknowledgment that the resources we utilize today are finite, and our \n",
    "actions today hold the power to shape the world that our descendants inherit.\n",
    "Central to the concept of sustainability is the recognition of the \n",
    "interconnectedness of all living beings and their environments. It champions the\n",
    "idea that every action, no matter how small, ripples through the intricate web \n",
    "of life. From the food we consume to the energy we harness, each choice bears \n",
    "consequences that reverberate far beyond our immediate surroundings. Thus, \n",
    "sustainability urges us to make deliberate and informed decisions, considering \n",
    "the broader impact on ecosystems, communities, and the global biosphere.\n",
    "The essence of sustainability lies in the pursuit of a delicate equilibrium \n",
    "between economic prosperity, social equity, and environmental resilience. It \n",
    "calls for responsible resource management, where we draw from nature's bounty in\n",
    "a manner that allows natural systems to replenish and regenerate. This approach \n",
    "seeks to curtail overexploitation and mitigate the detrimental effects of \n",
    "resource depletion, safeguarding the integrity of vital ecosystems.\"\"\"\n",
    "clean = samples.replace(\"\\n\", \" \")\n",
    "\n",
    "print(clean)"
   ]
  },
  {
   "cell_type": "code",
   "execution_count": 22,
   "metadata": {},
   "outputs": [
    {
     "name": "stdout",
     "output_type": "stream",
     "text": [
      "The number of pages in this pdf file are 2\n",
      "----------------------------------------------------------\n"
     ]
    }
   ],
   "source": [
    "reader = PdfReader('sample.pdf')\n",
    "\n",
    "print(\"The number of pages in this pdf file are\", len(reader.pages))\n",
    "page = reader.pages[0]\n",
    "\n",
    "text = page.extract_text()\n",
    "#print(text)\n",
    "print(\"----------------------------------------------------------\")\n",
    "text = text.replace(\"\\n\", \" \")\n",
    "#print(text)"
   ]
  },
  {
   "cell_type": "code",
   "execution_count": 16,
   "metadata": {},
   "outputs": [],
   "source": [
    "#unwanted special characters and digits are removed\n",
    "\n",
    "formatted_article_text = re.sub('[^a-zA-Z]', ' ', text )  \n",
    "formatted_article_text = re.sub(r'\\s+', ' ', formatted_article_text)  \n",
    "\n",
    "sentence_list = nltk.sent_tokenize(clean)\n",
    "\n",
    "#stopwords in English like 'a', 'the', etc. are saved in the variable called stopwords\n",
    "stopwords = nltk.corpus.stopwords.words('english')\n",
    "\n",
    "#word frequencies are calculated\n",
    "word_frequencies = {}\n",
    "for word in nltk.word_tokenize(formatted_article_text):\n",
    "    if word not in stopwords:\n",
    "        if word not in word_frequencies.keys():\n",
    "            word_frequencies[word] = 1\n",
    "        else:\n",
    "            word_frequencies[word] += 1"
   ]
  },
  {
   "cell_type": "code",
   "execution_count": 17,
   "metadata": {},
   "outputs": [],
   "source": [
    "max_f = max(word_frequencies.values())\n",
    "\n",
    "#weighted frequency of every word is calculated \n",
    "for word in word_frequencies.keys():\n",
    "    word_frequencies[word] = (word_frequencies[word]/max_f)"
   ]
  },
  {
   "cell_type": "code",
   "execution_count": 18,
   "metadata": {},
   "outputs": [],
   "source": [
    "scores = {}\n",
    "for sent in sentence_list:\n",
    "    for word in nltk.word_tokenize(sent.lower()):\n",
    "        if word in word_frequencies.keys():\n",
    "            if len(sent.split(' ')) < 30:\n",
    "                if sent not in scores.keys():\n",
    "                    scores[sent] = word_frequencies[word]\n",
    "                else:\n",
    "                    scores[sent] += word_frequencies[word]"
   ]
  },
  {
   "cell_type": "code",
   "execution_count": 19,
   "metadata": {},
   "outputs": [
    {
     "name": "stdout",
     "output_type": "stream",
     "text": [
      "Thus,  sustainability urges us to make deliberate and informed decisions, considering  the broader impact on ecosystems, communities, and the global biosphere. The essence of sustainability lies in the pursuit of a delicate equilibrium  between economic prosperity, social equity, and environmental resilience. Sustainability stands as the cornerstone of our collective responsibility  towards the planet we call home. It encompasses a holistic approach that seeks  to harmonize human activities with the delicate balance of nature, ensuring the  well-being of current and future generations. This approach  seeks to curtail overexploitation and mitigate the detrimental effects of  resource depletion, safeguarding the integrity of vital ecosystems. From the food we consume to the energy we harness, each choice bears  consequences that reverberate far beyond our immediate surroundings. It  calls for responsible resource management, where we draw from nature's bounty in a manner that allows natural systems to replenish and regenerate.\n"
     ]
    }
   ],
   "source": [
    "import heapq\n",
    "summary_sentences = heapq.nlargest(7, scores, key=scores.get)\n",
    "\n",
    "summary = ' '.join(summary_sentences)\n",
    "print(summary)"
   ]
  },
  {
   "cell_type": "code",
   "execution_count": 20,
   "metadata": {},
   "outputs": [
    {
     "name": "stdout",
     "output_type": "stream",
     "text": [
      "Output\n",
      "-------------------------------\n",
      "Extractive text summarisation:  In the realm of energy, sustainability encourages a shift towards renewable  sources that harness the boundless power of the sun, wind, and water.By minimizing waste and extending the  lifespan of products, we conserve resources and reduce the burden on landfills,  paving the way for a more sustainable and regenerative economy.\n",
      " \n",
      "Abstractive text summarisation:  Thus,  sustainability urges us to make deliberate and informed decisions, considering  the broader impact on ecosystems, communities, and the global biosphere. The essence of sustainability lies in the pursuit of a delicate equilibrium  between economic prosperity, social equity, and environmental resilience. Sustainability stands as the cornerstone of our collective responsibility  towards the planet we call home. It encompasses a holistic approach that seeks  to harmonize human activities with the delicate balance of nature, ensuring the  well-being of current and future generations. This approach  seeks to curtail overexploitation and mitigate the detrimental effects of  resource depletion, safeguarding the integrity of vital ecosystems. From the food we consume to the energy we harness, each choice bears  consequences that reverberate far beyond our immediate surroundings. It  calls for responsible resource management, where we draw from nature's bounty in a manner that allows natural systems to replenish and regenerate.\n"
     ]
    }
   ],
   "source": [
    "print(\"Output\")\n",
    "print(\"-------------------------------\")\n",
    "print(\"Extractive text summarisation: \", text_summary)\n",
    "print(\" \")\n",
    "print(\"Abstractive text summarisation: \", summary)"
   ]
  }
 ],
 "metadata": {
  "kernelspec": {
   "display_name": "Python 3",
   "language": "python",
   "name": "python3"
  },
  "language_info": {
   "codemirror_mode": {
    "name": "ipython",
    "version": 3
   },
   "file_extension": ".py",
   "mimetype": "text/x-python",
   "name": "python",
   "nbconvert_exporter": "python",
   "pygments_lexer": "ipython3",
   "version": "3.11.5"
  },
  "orig_nbformat": 4
 },
 "nbformat": 4,
 "nbformat_minor": 2
}
